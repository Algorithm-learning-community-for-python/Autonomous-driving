{
 "cells": [
  {
   "cell_type": "code",
   "execution_count": 4,
   "metadata": {},
   "outputs": [
    {
     "name": "stdout",
     "output_type": "stream",
     "text": [
      "[[1. 0. 0. 0. 0. 0.]\n",
      " [0. 1. 0. 0. 0. 0.]\n",
      " [0. 0. 1. 0. 0. 0.]\n",
      " [0. 0. 0. 1. 0. 0.]\n",
      " [0. 0. 0. 0. 1. 0.]\n",
      " [0. 0. 0. 0. 0. 1.]]\n"
     ]
    },
    {
     "name": "stderr",
     "output_type": "stream",
     "text": [
      "/home/xr-10/anaconda3/envs/py27/lib/python2.7/site-packages/sklearn/preprocessing/_encoders.py:371: FutureWarning: The handling of integer data will change in version 0.22. Currently, the categories are determined based on the range [0, max(values)], while in the future they will be determined based on the unique values.\n",
      "If you want the future behaviour and silence this warning, you can specify \"categories='auto'\".\n",
      "In case you used a LabelEncoder before this OneHotEncoder to convert the categories to integers, then you can now use the OneHotEncoder directly.\n",
      "  warnings.warn(msg, FutureWarning)\n"
     ]
    }
   ],
   "source": [
    "from sklearn.preprocessing import LabelEncoder\n",
    "from sklearn.preprocessing import OneHotEncoder\n",
    "\n",
    "class one_hot_encoder():\n",
    "    def __init__(self, categories):\n",
    "        self.label_encoder = LabelEncoder()\n",
    "        self.label_encoder.fit(categories)\n",
    "        self.onehot_encoder = OneHotEncoder(sparse=False)\n",
    "        \n",
    "    def encode(self, values):\n",
    "        self.integer_encoded = self.label_encoder.transform(values)\n",
    "        self.integer_encoded = self.integer_encoded.reshape(len(self.integer_encoded), 1)\n",
    "        self.onehot_encoded = self.onehot_encoder.fit_transform(self.integer_encoded)\n",
    "        return self.onehot_encoded\n",
    "    \n",
    "    def invert(self, values):\n",
    "        integer_encoded = []\n",
    "        for value in values:\n",
    "            integer_encoded.append(np.argmax(value))\n",
    "        inverted = self.label_encoder.inverse_transform(integer_encoded)\n",
    "        return inverted\n",
    "ohe = one_hot_encoder([\"1\",\"2\",\"3\",\"4\",\"5\",\"6\"])\n",
    "print(ohe.encode([\"1\",\"2\",\"3\",\"4\",\"5\",\"6\"]))\n"
   ]
  },
  {
   "cell_type": "code",
   "execution_count": null,
   "metadata": {},
   "outputs": [],
   "source": [
    "def create_mlp(input_dim, network=[8,4] regress=False, one_hot=False, categories=None):\n",
    "    if one_hot:\n",
    "        ohe = one_hot_encoder(categories)\n",
    "        dim = len(categories)\n",
    "        \n",
    "    # define our MLP network\n",
    "    model = Sequential()\n",
    "    model.add(Dense(network[0], input_dim=dim, activation=\"relu\"))\n",
    "    for i in network[1:]:\n",
    "        model.add(Dense(i, activation=\"relu\"))\n",
    "\n",
    "    # check to see if the regression node should be added\n",
    "    if regress:\n",
    "        model.add(Dense(1, activation=\"linear\"))\n",
    "\n",
    "    # return our model\n",
    "    return model"
   ]
  }
 ],
 "metadata": {
  "kernelspec": {
   "display_name": "Python 2",
   "language": "python",
   "name": "python2"
  },
  "language_info": {
   "codemirror_mode": {
    "name": "ipython",
    "version": 2
   },
   "file_extension": ".py",
   "mimetype": "text/x-python",
   "name": "python",
   "nbconvert_exporter": "python",
   "pygments_lexer": "ipython2",
   "version": "2.7.16"
  }
 },
 "nbformat": 4,
 "nbformat_minor": 2
}
